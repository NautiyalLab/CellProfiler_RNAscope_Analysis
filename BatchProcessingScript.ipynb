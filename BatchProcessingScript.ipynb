{
 "cells": [
  {
   "cell_type": "code",
   "execution_count": 1,
   "id": "2633c7a7",
   "metadata": {},
   "outputs": [],
   "source": [
    "# MISCELLANEOUS PACKAGE IMPORT BLOCK\n",
    "\n",
    "import os # For file I/O processes\n",
    "import tkinter as tk # Enable GUI selection of some file I/O components\n",
    "import glob # Read in image files from subdirectories\n",
    "import pandas as pd # Create and save output file"
   ]
  },
  {
   "cell_type": "code",
   "execution_count": 2,
   "id": "370734b7",
   "metadata": {},
   "outputs": [],
   "source": [
    "# CELLPROFILER IMPORT BLOCK\n",
    "\n",
    "# See: https://github.com/CellProfiler/CellProfiler/wiki/CellProfiler-as-a-Python-package\n",
    "import cellprofiler_core.pipeline\n",
    "import cellprofiler_core.preferences\n",
    "import cellprofiler_core.utilities.java\n",
    "import pathlib\n",
    "\n",
    "cellprofiler_core.preferences.set_headless()\n",
    "\n",
    "# Start the Java VM\n",
    "cellprofiler_core.utilities.java.start_java()"
   ]
  },
  {
   "cell_type": "code",
   "execution_count": 3,
   "id": "2bf1336b",
   "metadata": {},
   "outputs": [],
   "source": [
    "### USER INPUT BLOCK ###\n",
    "\n",
    "# N.B. Set any variable, except savefile_name or image_ext, to '' to use GUI for that input.\n",
    "\n",
    "# Set path to pipeline file here\n",
    "cp_pipe_file = \"multiplex RNAscope quantification_Erben17_SSD.cppipe\"\n",
    "# Run one sample image from your dataset using the GUI prior to batch processing \n",
    "#     to ensure module parameters are correct\n",
    "# Batch processing in this file is written for the output of \n",
    "#     \"multiplex RNAscope quantification_Erben17_SSD.cppipe\"\n",
    "\n",
    "# Set Experiment's parent directory here\n",
    "parent_dir = ''\n",
    "# The organization and naming conventions of images within your folders should match \n",
    "#     what is expected by your chosen .cppipe file. \n",
    "# This script assumes that the experiment is organized such that individual channels for each \n",
    "#    image are kept in named subdirectories within a parent directory. \n",
    "\n",
    "# Specify image extension\n",
    "im_file_ext = '.tif'\n",
    "\n",
    "# Output Directory\n",
    "out_dir = ''\n",
    "savefile_name = 'CellProfiler_BatchProcessing_Output.csv'"
   ]
  },
  {
   "cell_type": "code",
   "execution_count": 4,
   "id": "b6ba6901",
   "metadata": {
    "scrolled": false
   },
   "outputs": [],
   "source": [
    "# LOAD PIPELINE\n",
    "\n",
    "pipeline = cellprofiler_core.pipeline.Pipeline()\n",
    "if cp_pipe_file == '':\n",
    "    root = tk.Tk()\n",
    "    root.withdraw()\n",
    "    home = os.path.expanduser('~')\n",
    "    print('Select CellProfiler Pipeline (.cppipe) File')\n",
    "    parent_dir = tk.filedialog.askdirectory(initialdir=home)  ## ask_directory\n",
    "\n",
    "pipeline.load(cp_pipe_file)"
   ]
  },
  {
   "cell_type": "code",
   "execution_count": 5,
   "id": "e2813062",
   "metadata": {
    "collapsed": true
   },
   "outputs": [
    {
     "name": "stdout",
     "output_type": "stream",
     "text": [
      "0 Images\n",
      "1 Metadata\n",
      "2 NamesAndTypes\n",
      "3 Groups\n",
      "4 ColorToGray\n",
      "5 ColorToGray\n",
      "6 ColorToGray\n",
      "7 EnhanceOrSuppressFeatures\n",
      "8 EnhanceOrSuppressFeatures\n",
      "9 EnhanceOrSuppressFeatures\n",
      "10 IdentifyPrimaryObjects\n",
      "11 IdentifyPrimaryObjects\n",
      "12 IdentifyPrimaryObjects\n",
      "13 IdentifyPrimaryObjects\n",
      "14 MeasureImageIntensity\n",
      "15 IdentifyPrimaryObjects\n",
      "16 IdentifySecondaryObjects\n",
      "17 RelateObjects\n",
      "18 RelateObjects\n",
      "19 RelateObjects\n",
      "20 FilterObjects\n",
      "21 FilterObjects\n",
      "22 FilterObjects\n",
      "23 ExportToSpreadsheet\n"
     ]
    }
   ],
   "source": [
    "# DISPLAY PIPELINE MODULES AND DISABLE DEFAULT FILE-SAVE\n",
    "\n",
    "# Display all module settings\n",
    "export_to_spreadsheet_number = -1\n",
    "for module in pipeline.modules():\n",
    "    print(module.to_dict()['module_num']-1, module.to_dict()['module_name'])\n",
    "    \n",
    "    # and get the location of ExportToSpreadsheet if it exists\n",
    "    if module.to_dict()['module_name'] == 'ExportToSpreadsheet':\n",
    "        export_to_spreadsheet_number = module.to_dict()['module_num']-1\n",
    "\n",
    "# Disable ExportToSpreadsheet\n",
    "if export_to_spreadsheet_number >=0:\n",
    "    pipeline.disable_module(pipeline_modules()[export_to_spreadsheet_number])\n",
    "    # Set export_to_spreadsheet back to -1 so that another module can't be deleted. \n",
    "    export_to_spreadsheet_number = -1"
   ]
  },
  {
   "cell_type": "code",
   "execution_count": 7,
   "id": "73d02221",
   "metadata": {
    "scrolled": false
   },
   "outputs": [],
   "source": [
    "# Optional --- Display settings for any desired modules \n",
    "modules_to_display = []\n",
    "for module in modules_to_display:\n",
    "    for setting_num, setting in enumerate(pipeline.modules()[module].settings(), start=1):\n",
    "        print(f'{setting_num}: {setting.to_dict()[\"text\"]}---{setting.to_dict()[\"value\"]}') "
   ]
  },
  {
   "cell_type": "code",
   "execution_count": null,
   "id": "526b0f57",
   "metadata": {},
   "outputs": [],
   "source": [
    "# Optional --- Edit settings for desired modules\n",
    "\n",
    "# usage: pipeline.modules()[module_number].setting(setting_num).set_value(TARGET_VALUE)"
   ]
  },
  {
   "cell_type": "code",
   "execution_count": 8,
   "id": "92e3da7e",
   "metadata": {},
   "outputs": [
    {
     "name": "stdout",
     "output_type": "stream",
     "text": [
      "Preparing to analyze images from \n",
      " ['/mnt/Mitch Spring/Microscopy/A2ASample/40XCaptures/351_40x', '/mnt/Mitch Spring/Microscopy/A2ASample/40XCaptures/353_40x', '/mnt/Mitch Spring/Microscopy/A2ASample/40XCaptures/354_40x']\n"
     ]
    }
   ],
   "source": [
    "# FIND IMAGE DIRECTORIES IN PARENT\n",
    "\n",
    "if parent_dir == '':\n",
    "    root = tk.Tk()\n",
    "    root.withdraw()\n",
    "    home = os.path.expanduser('~')\n",
    "    parent_dir = tk.filedialog.askdirectory(initialdir=home)  ## ask_directory\n",
    "\n",
    "# Get contents of parent directory    \n",
    "image_directories = glob.glob(os.path.join(parent_dir, '*'))\n",
    "\n",
    "# Filter out non-directories (i.e. filter out regular files)\n",
    "image_directories = list(filter(os.path.isdir, image_directories))\n",
    "print(\"Preparing to analyze images from \\n\", image_directories)"
   ]
  },
  {
   "cell_type": "code",
   "execution_count": 14,
   "id": "0453edd5",
   "metadata": {
    "scrolled": true
   },
   "outputs": [
    {
     "ename": "NameError",
     "evalue": "name 'im_file_ext' is not defined",
     "output_type": "error",
     "traceback": [
      "\u001b[0;31m---------------------------------------------------------------------------\u001b[0m",
      "\u001b[0;31mNameError\u001b[0m                                 Traceback (most recent call last)",
      "\u001b[0;32m/tmp/ipykernel_27558/2995682350.py\u001b[0m in \u001b[0;36m<module>\u001b[0;34m\u001b[0m\n\u001b[1;32m     19\u001b[0m \u001b[0;34m\u001b[0m\u001b[0m\n\u001b[1;32m     20\u001b[0m     \u001b[0;31m# Read in Files\u001b[0m\u001b[0;34m\u001b[0m\u001b[0;34m\u001b[0m\u001b[0;34m\u001b[0m\u001b[0m\n\u001b[0;32m---> 21\u001b[0;31m     \u001b[0mfile_list\u001b[0m \u001b[0;34m=\u001b[0m \u001b[0mlist\u001b[0m\u001b[0;34m(\u001b[0m\u001b[0mpathlib\u001b[0m\u001b[0;34m.\u001b[0m\u001b[0mPath\u001b[0m\u001b[0;34m(\u001b[0m\u001b[0minput_dir\u001b[0m\u001b[0;34m)\u001b[0m\u001b[0;34m.\u001b[0m\u001b[0mabsolute\u001b[0m\u001b[0;34m(\u001b[0m\u001b[0;34m)\u001b[0m\u001b[0;34m.\u001b[0m\u001b[0mglob\u001b[0m\u001b[0;34m(\u001b[0m\u001b[0;34mf'*{im_file_ext}'\u001b[0m\u001b[0;34m)\u001b[0m\u001b[0;34m)\u001b[0m\u001b[0;34m\u001b[0m\u001b[0;34m\u001b[0m\u001b[0m\n\u001b[0m\u001b[1;32m     22\u001b[0m     \u001b[0mprint\u001b[0m\u001b[0;34m(\u001b[0m\u001b[0mfile_list\u001b[0m\u001b[0;34m)\u001b[0m\u001b[0;34m\u001b[0m\u001b[0;34m\u001b[0m\u001b[0m\n\u001b[1;32m     23\u001b[0m     \u001b[0mfiles\u001b[0m \u001b[0;34m=\u001b[0m \u001b[0;34m[\u001b[0m\u001b[0mfile\u001b[0m\u001b[0;34m.\u001b[0m\u001b[0mas_uri\u001b[0m\u001b[0;34m(\u001b[0m\u001b[0;34m)\u001b[0m \u001b[0;32mfor\u001b[0m \u001b[0mfile\u001b[0m \u001b[0;32min\u001b[0m \u001b[0mfile_list\u001b[0m\u001b[0;34m]\u001b[0m\u001b[0;34m\u001b[0m\u001b[0;34m\u001b[0m\u001b[0m\n",
      "\u001b[0;31mNameError\u001b[0m: name 'im_file_ext' is not defined"
     ]
    }
   ],
   "source": [
    "# MAIN EXECUTION LOOP\n",
    "\n",
    "# Create output dataframe: \n",
    "cell_counts = pd.DataFrame(index = range(len(image_directories)), columns = ['ImageName', 'TotalCells',\n",
    "                                                                             'G', 'R', 'W', \n",
    "                                                                             'GR', 'GW', 'RW', 'GRW'])\n",
    "cell_counts.loc[:, :] = 0\n",
    "\n",
    "# Used in categorizing and counting cells\n",
    "category_code_dict = {\n",
    "    'G': 4,\n",
    "    'R': 2,\n",
    "    'W': 1,\n",
    "    'GR': 6,\n",
    "    'GW': 5, \n",
    "    'RW': 3, \n",
    "    'GRW': 7\n",
    "}\n",
    "\n",
    "for im_num, input_dir in enumerate(image_directories):\n",
    "\n",
    "    # Read in Files\n",
    "    file_list = list(pathlib.Path(input_dir).absolute().glob(f'*{im_file_ext}'))\n",
    "    print(file_list)\n",
    "    files = [file.as_uri() for file in file_list]\n",
    "    pipeline.read_file_list(files)\n",
    "    \n",
    "    \n",
    "    # Run pipeline\n",
    "    output_measurements = pipeline.run()\n",
    "    \n",
    "    # Read out image name and total cells into DataFrame\n",
    "    cell_counts.loc[im_num, 'TotalCells'] = output_measurements.get_measurement('Cells', 'Parent_Nuclei').size\n",
    "    cell_counts.loc[im_num, 'ImageName'] = os.path.basename(input_dir)\n",
    "    \n",
    "    \n",
    "\n",
    "    # Categorize and count cells. \n",
    "    category_codes = (output_measurements.get_measurement('Cells', 'Children_GreenCells_Count') * 4) + \\ \n",
    "                     (output_measurements.get_measurement('Cells', 'Children_RedCells_Count') * 2) + \\\n",
    "                      output_measurements.get_measurement('Cells', 'Children_WhiteCells_Count')\n",
    "    \n",
    "    \n",
    "    for category, code in category_code_dict.items():\n",
    "            cell_counts.loc[im_num, category] = np.non_zero(category_codes == code)\n",
    "\n"
   ]
  },
  {
   "cell_type": "code",
   "execution_count": null,
   "id": "69703875",
   "metadata": {},
   "outputs": [],
   "source": [
    "# SAVE OUTPUT TO FILE\n",
    "\n",
    "if out_dir == '':\n",
    "    root = tk.Tk()\n",
    "    root.withdraw()\n",
    "    home = os.path.expanduser('~')\n",
    "    parent_dir = tk.filedialog.askdirectory(initialdir=home)  ## ask_directory\n",
    "\n",
    "#   If the directory doesn't exist, create it\n",
    "if not os.path.isdir(out_dir):\n",
    "    os.mkdir(out_dir)\n",
    "    \n",
    "save_path = os.path.join(out_dir, savefile_name)\n",
    "cell_counts.to_csv(save_path)"
   ]
  },
  {
   "cell_type": "code",
   "execution_count": null,
   "id": "7749843e",
   "metadata": {},
   "outputs": [],
   "source": [
    "# Shut down Java VM before closing\n",
    "cellprofiler_core.utilities.java.stop_java()"
   ]
  }
 ],
 "metadata": {
  "kernelspec": {
   "display_name": "Python 3",
   "language": "python",
   "name": "python3"
  },
  "language_info": {
   "codemirror_mode": {
    "name": "ipython",
    "version": 3
   },
   "file_extension": ".py",
   "mimetype": "text/x-python",
   "name": "python",
   "nbconvert_exporter": "python",
   "pygments_lexer": "ipython3",
   "version": "3.8.0"
  }
 },
 "nbformat": 4,
 "nbformat_minor": 5
}
